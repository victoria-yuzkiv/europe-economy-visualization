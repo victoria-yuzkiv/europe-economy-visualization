{
 "cells": [
  {
   "cell_type": "markdown",
   "metadata": {
    "colab_type": "text",
    "id": "ATw127fH8kLx"
   },
   "source": [
    "Data source - https://www.kaggle.com/beradabhishek/europe-economy"
   ]
  },
  {
   "cell_type": "markdown",
   "metadata": {
    "colab_type": "text",
    "id": "UX1wQrx_I1SL"
   },
   "source": [
    "# Import necessary libraries"
   ]
  },
  {
   "cell_type": "code",
   "execution_count": null,
   "metadata": {
    "colab": {},
    "colab_type": "code",
    "id": "9fj9pBL-eJaq"
   },
   "outputs": [],
   "source": [
    "import pandas as pd\n",
    "import numpy as np\n",
    "import altair as alt\n",
    "import geopandas as gpd"
   ]
  },
  {
   "cell_type": "code",
   "execution_count": null,
   "metadata": {
    "colab": {
     "base_uri": "https://localhost:8080/",
     "height": 34
    },
    "colab_type": "code",
    "id": "qYvc8pd9eODH",
    "outputId": "ac2f81fc-d68d-435c-8127-58df6e987f18"
   },
   "outputs": [],
   "source": [
    "alt.data_transformers.enable('default', max_rows=None) "
   ]
  },
  {
   "cell_type": "markdown",
   "metadata": {
    "colab_type": "text",
    "id": "RsPrzoblJCFx"
   },
   "source": [
    "# Read data"
   ]
  },
  {
   "cell_type": "code",
   "execution_count": null,
   "metadata": {
    "colab": {},
    "colab_type": "code",
    "id": "6rKbNNJcedTy"
   },
   "outputs": [],
   "source": [
    "economy = pd.read_csv('data/economy.csv')\n",
    "geo_data = gpd.read_file('data/europe.geojson')"
   ]
  },
  {
   "cell_type": "code",
   "execution_count": null,
   "metadata": {
    "colab": {},
    "colab_type": "code",
    "id": "BBvjVEGuigkz"
   },
   "outputs": [],
   "source": [
    "economy = economy[economy.Country != 'European Union']\n",
    "economy = economy[economy.Country != 'Eurozone']\n",
    "df = economy"
   ]
  },
  {
   "cell_type": "code",
   "execution_count": null,
   "metadata": {
    "colab": {},
    "colab_type": "code",
    "id": "hWvzLTT0Y5Ch"
   },
   "outputs": [],
   "source": [
    "font = 'Ubuntu Mono'\n",
    "red = '#d53e4f'\n",
    "blue = '#3288bd'\n",
    "gray = '#5D646F'"
   ]
  },
  {
   "cell_type": "markdown",
   "metadata": {
    "colab_type": "text",
    "id": "UHEsSaXdJM7H"
   },
   "source": [
    "# Graph 1: How economy level changed in Europe from 2012 to 2017"
   ]
  },
  {
   "cell_type": "code",
   "execution_count": null,
   "metadata": {
    "colab": {
     "base_uri": "https://localhost:8080/",
     "height": 206
    },
    "colab_type": "code",
    "id": "_EC2GGIfW7na",
    "outputId": "4e1eb987-0068-4f60-cdb8-ba9f90b0c76f"
   },
   "outputs": [],
   "source": [
    "economy.head()"
   ]
  },
  {
   "cell_type": "code",
   "execution_count": null,
   "metadata": {
    "colab": {
     "base_uri": "https://localhost:8080/",
     "height": 733
    },
    "colab_type": "code",
    "id": "mWl9GT9yz8ur",
    "outputId": "3f0db5d1-d36a-404a-9c3f-7e6aa6ca51e0"
   },
   "outputs": [],
   "source": [
    "chart1 = alt.Chart(economy).mark_line().encode(\n",
    "    x = alt.X('2012'),\n",
    "    x2 = alt.X2('2017'),\n",
    "    y = alt.Y('Country', sort=alt.Sort(field='2017', op='max', order='descending'), title=None)\n",
    ")\n",
    "\n",
    "chart2 = alt.Chart(economy).mark_circle().encode(\n",
    "    x = alt.X('2012', title='economy level'),\n",
    "    y = alt.Y('Country', sort=alt.Sort(field='2017', op='max', order='descending'))\n",
    "   # color  = alt.Color('year:N')\n",
    ")\n",
    "\n",
    "chart3 = alt.Chart(economy).mark_circle().encode(\n",
    "    x = alt.X('2017'),\n",
    "    y = alt.Y('Country', sort=alt.Sort(field='2017', op='max', order='descending')),\n",
    "    color=alt.value('red')\n",
    ")\n",
    "\n",
    "chart = chart1 + chart2 + chart3\n",
    "chart.properties(background = '#EFECFA', padding = 25, title = alt.TitleParams(text = 'Changes in EU countries economy from 2012 to 2017', \n",
    "            subtitle = ['Blue points are for 2012 and red - 2017', ' '],\n",
    "            font = font, fontSize=20, color='#635F5D', subtitleFont = font, anchor = 'start',\n",
    "            subtitleFontSize = 12, subtitleColor = '#8E8883', subtitleFontStyle = 'italic')\n",
    ").configure_axis(domain = False, ticks = False, gridColor = 'white', gridWidth = 1,\n",
    "            labelFont = font, labelFontSize = 12, labelColor = '#635F5D', labelPadding = 5, labelFontWeight = 'bold',\n",
    "            titleFont = font, titleFontSize = 12, titleFontWeight = 'normal', titleColor = '#635F5D', titlePadding = 22\n",
    ").configure_view(strokeOpacity = 0, width = 650,)"
   ]
  },
  {
   "cell_type": "markdown",
   "metadata": {
    "colab_type": "text",
    "id": "hr5hOe5bJz7T"
   },
   "source": [
    "# Graph 2: Comparing growth level of European countries"
   ]
  },
  {
   "cell_type": "code",
   "execution_count": null,
   "metadata": {
    "colab": {},
    "colab_type": "code",
    "id": "3ry7ZmSuBrf6"
   },
   "outputs": [],
   "source": [
    "missing = pd.DataFrame([['Ukraine', -1.5], ['Switzerland', -1.5], ['Iceland', -1.5], ['Republic of Moldova', -1.5], ['Belarus', -1.5], ['Russia', -1.5], ['Turkey', -1.5], ['Georgia', -1.5]], columns=['Country', 'Yearly Growth(2012-2017)'])\n",
    "economy = economy.append(missing, ignore_index=True, sort=True)\n",
    "economy.Country.replace(['Czechia'], ['Czech Republic'], inplace=True)"
   ]
  },
  {
   "cell_type": "code",
   "execution_count": null,
   "metadata": {
    "colab": {
     "base_uri": "https://localhost:8080/",
     "height": 424
    },
    "colab_type": "code",
    "id": "gjbcRxtO7s1Y",
    "outputId": "8d24f3b8-8b11-418e-c601-514c7edc9be3"
   },
   "outputs": [],
   "source": [
    "alt.Chart(geo_data, width=400, height=300).mark_geoshape().encode(\n",
    "    color=alt.condition('datum[\"Yearly Growth(2012-2017)\"] >= -1', alt.Color('Yearly Growth(2012-2017):Q'), alt.value('lightgray')),\n",
    "    tooltip = alt.Tooltip(\"NAME:N\")\n",
    ").project(\n",
    "    'naturalEarth1'\n",
    ").transform_lookup(\n",
    "    lookup='NAME',\n",
    "    from_=alt.LookupData(economy, 'Country', ['Yearly Growth(2012-2017)'])\n",
    ").properties(background = '#EFECFA', padding = 25, title = alt.TitleParams(text = 'Ireland has the biggest yearly growth level', \n",
    "            subtitle = ['2012-2017', ' '],\n",
    "            font = font, fontSize=20, color='#635F5D', subtitleFont = font, anchor = 'start',\n",
    "            subtitleFontSize = 12, subtitleColor = '#8E8883', subtitleFontStyle = 'italic')\n",
    ").configure_axis(domain = False, ticks = False, gridColor = 'white', gridWidth = 0,\n",
    "            labelFont = font, labelFontSize = 12, labelColor = '#635F5D', labelPadding = 5, labelFontWeight = 'bold',\n",
    "            titleFont = font, titleFontSize = 12, titleFontWeight = 'normal', titleColor = '#635F5D', titlePadding = 22\n",
    ").configure_view(strokeOpacity = 0, width = 650,\n",
    ").configure_legend(\n",
    "            labelColor = '#635F5D', titleColor = '#635F5D', fillColor='#E5E2E0', padding=10,\n",
    "            strokeColor='#C0C0BB', title=None, orient='right'\n",
    ")"
   ]
  },
  {
   "cell_type": "markdown",
   "metadata": {
    "colab_type": "text",
    "id": "QkAPhQpNeNCZ"
   },
   "source": [
    "# Chart 3: Economy changes for every country"
   ]
  },
  {
   "cell_type": "code",
   "execution_count": null,
   "metadata": {
    "colab": {},
    "colab_type": "code",
    "id": "3EJ-GCwllIZR"
   },
   "outputs": [],
   "source": [
    "df = df.drop(columns=['Unnamed: 0', 'LastAvailableQuarter', 'Yearly Growth(2012-2017)', '2018'])\n",
    "df1 = pd.melt(df, id_vars=['Country'], value_vars=['2012', '2013', '2014', '2015', '2016', '2017'], value_name='value')[['Country', 'value']]"
   ]
  },
  {
   "cell_type": "code",
   "execution_count": null,
   "metadata": {
    "colab": {},
    "colab_type": "code",
    "id": "yN6NNC1VlGLw"
   },
   "outputs": [],
   "source": [
    "lst = []\n",
    "\n",
    "for year in ['2012', '2013', '2014', '2015', '2016', '2017']:\n",
    "  lst += [int(year) for i in range (28)]\n",
    "\n",
    "df1['year'] = lst"
   ]
  },
  {
   "cell_type": "code",
   "execution_count": null,
   "metadata": {
    "colab": {
     "base_uri": "https://localhost:8080/",
     "height": 476
    },
    "colab_type": "code",
    "id": "3QUYFM2fczGV",
    "outputId": "0ccc2e04-fd4f-44f9-e13c-da4c450a4369"
   },
   "outputs": [],
   "source": [
    "countries = list(df.Country.unique())\n",
    "country_dropdown = alt.binding_select(options=countries)\n",
    "country_select = alt.selection_single(name=\"Choose\", fields=['Country'], bind=country_dropdown, init={'Country': 'Italy'})\n",
    "\n",
    "alt.Chart(df1).mark_bar(size=7).encode(\n",
    "    x = alt.X('year:O', title=None, axis=alt.Axis(labelAngle=0)),\n",
    "    y = alt.Y('value', title=None),\n",
    "    color=alt.condition('datum.value >= 0', alt.value(blue), alt.value(red)),\n",
    ").add_selection(\n",
    "    country_select\n",
    ").transform_filter(\n",
    "    country_select\n",
    ").properties(background = '#EFECFA', padding = 25, title = alt.TitleParams(text = 'Check out growth level of European countries', \n",
    "            subtitle = ['2012-2017', ' '],\n",
    "            font = font, fontSize=20, color='#635F5D', subtitleFont = font, anchor = 'start',\n",
    "            subtitleFontSize = 12, subtitleColor = '#8E8883', subtitleFontStyle = 'italic')\n",
    ").configure_axis(domain = False, ticks = False, gridColor = 'white', gridWidth = 1,\n",
    "            labelFont = font, labelFontSize = 12, labelColor = '#635F5D', labelPadding = 5, labelFontWeight = 'bold',\n",
    "            titleFont = font, titleFontSize = 12, titleFontWeight = 'normal', titleColor = '#635F5D', titlePadding = 22\n",
    ").configure_view(strokeOpacity = 0, width = 650,\n",
    ").configure_legend(\n",
    "            labelColor = '#635F5D', titleColor = '#635F5D', fillColor='#E5E2E0', padding=10,\n",
    "            strokeColor='#C0C0BB', title=None, orient='right'\n",
    ")"
   ]
  },
  {
   "cell_type": "code",
   "execution_count": null,
   "metadata": {
    "colab": {},
    "colab_type": "code",
    "id": "xDr3wc-jdbQZ"
   },
   "outputs": [],
   "source": []
  }
 ],
 "metadata": {
  "colab": {
   "collapsed_sections": [],
   "name": "Europe Economy",
   "provenance": []
  },
  "kernelspec": {
   "display_name": "Python 3",
   "language": "python",
   "name": "python3"
  },
  "language_info": {
   "codemirror_mode": {
    "name": "ipython",
    "version": 3
   },
   "file_extension": ".py",
   "mimetype": "text/x-python",
   "name": "python",
   "nbconvert_exporter": "python",
   "pygments_lexer": "ipython3",
   "version": "3.6.7"
  }
 },
 "nbformat": 4,
 "nbformat_minor": 1
}
